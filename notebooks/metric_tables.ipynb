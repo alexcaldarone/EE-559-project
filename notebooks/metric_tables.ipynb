----------------------------------------------------------------------------------------------------
Test Set: Shuffled Text
--------------------
Binary Classifier Trained Simple/Tested on Shuffled Text: F1 Score = 0.679 ± 0.042
Finetuned Binary Classifier Trained Simple/Tested on Shuffled Text: F1 Score = 0.433 ± 0.050
Binary Classifier Trained on Shuffled Text/Tested on Shuffled Text: F1 Score = 0.729 ± 0.021
Finetuned Binary Classifier Trained on Shuffled Text/Tested on Shuffled Text: F1 Score = 0.664 ± 0.035
Finetuned Binary Classifier Trained on Shuffled Images/Tested on Shuffled Text: F1 Score = 0.293 ± 0.048
----------------------------------------------------------------------------------------------------
Test Set: Normal Test Data
--------------------
Binary Classifier Trained/Testesd Simple: F1 Score = 0.818 ± 0.012
Finetuned Binary Classifier Trained/Tested Simple: F1 Score = 0.867 ± 0.018
Binary Classifier Trained on Shuffled Text/Tested on Normal Data: F1 Score = 0.821 ± 0.020
Binary Classifier Trained on Shuffled Image/Tested on Normal Data: F1 Score = 0.770 ± 0.039
Finetuned Binary Classifier Trained on Shuffled Text/Tested on Normal Data: F1 Score = 0.845 ± 0.022
Finetuned Binary Classifier Trained on Shuffled Image/Tested on Normal Data: F1 Score = 0.844 ± 0.029
----------------------------------------------------------------------------------------------------
Test Set: Shuffled Image
--------------------
Binary Classifier Trained Simple/Tested on Shuffled Image: F1 Score = 0.690 ± 0.015
Finetuned Binary Classifier Trained Simple/Tested on Shuffled Image: F1 Score = 0.803 ± 0.030
Binary Classifier Trained on Shuffled Image/Tested on Shuffled Image: F1 Score = 0.684 ± 0.026
Finetuned Binary Classifier Trained on Shuffled Image/Tested on Shuffled Image: F1 Score = 0.810 ± 0.025
Finetuned Binary Classifier Trained on Shuffled Text/Tested on Shuffled Image: F1 Score = 0.734 ± 0.018
::::::::::::::::::::::::::::::::::::::::::::::::::::::::::::::::::::::::::::::::::::::::::::::::::::::::::::::::::::::::::::::::::::::::::::::::::::::::::::::::::::::::::::::::::::::::::::::::::::::::
----------------------------------------------------------------------------------------------------
Test Set: Shuffled Text
--------------------
Binary Classifier Trained Simple/Tested on Shuffled Text: Precision Hateful = 0.797 ± 0.056
Finetuned Binary Classifier Trained Simple/Tested on Shuffled Text: Precision Hateful = 0.720 ± 0.094
Binary Classifier Trained on Shuffled Text/Tested on Shuffled Text: Precision Hateful = 0.738 ± 0.035
Finetuned Binary Classifier Trained on Shuffled Text/Tested on Shuffled Text: Precision Hateful = 0.688 ± 0.042
Finetuned Binary Classifier Trained on Shuffled Images/Tested on Shuffled Text: Precision Hateful = 0.711 ± 0.074
----------------------------------------------------------------------------------------------------
Test Set: Normal Test Data
--------------------
Binary Classifier Trained/Testesd Simple: Precision Hateful = 0.836 ± 0.023
Finetuned Binary Classifier Trained/Tested Simple: Precision Hateful = 0.876 ± 0.027
Binary Classifier Trained on Shuffled Text/Tested on Normal Data: Precision Hateful = 0.771 ± 0.032
Binary Classifier Trained on Shuffled Image/Tested on Normal Data: Precision Hateful = 0.906 ± 0.024
Finetuned Binary Classifier Trained on Shuffled Text/Tested on Normal Data: Precision Hateful = 0.760 ± 0.034
Finetuned Binary Classifier Trained on Shuffled Image/Tested on Normal Data: Precision Hateful = 0.909 ± 0.022
----------------------------------------------------------------------------------------------------
Test Set: Shuffled Image
--------------------
Binary Classifier Trained Simple/Tested on Shuffled Image: Precision Hateful = 0.586 ± 0.025
Finetuned Binary Classifier Trained Simple/Tested on Shuffled Image: Precision Hateful = 0.746 ± 0.048
Binary Classifier Trained on Shuffled Image/Tested on Shuffled Image: Precision Hateful = 0.665 ± 0.047
Finetuned Binary Classifier Trained on Shuffled Image/Tested on Shuffled Image: Precision Hateful = 0.814 ± 0.036
Finetuned Binary Classifier Trained on Shuffled Text/Tested on Shuffled Image: Precision Hateful = 0.596 ± 0.024
::::::::::::::::::::::::::::::::::::::::::::::::::::::::::::::::::::::::::::::::::::::::::::::::::::::::::::::::::::::::::::::::::::::::::::::::::::::::::::::::::::::::::::::::::::::::::::::::::::::::
----------------------------------------------------------------------------------------------------
Test Set: Shuffled Text
--------------------
Binary Classifier Trained Simple/Tested on Shuffled Text: Precision Non-Hateful = 0.674 ± 0.031
Finetuned Binary Classifier Trained Simple/Tested on Shuffled Text: Precision Non-Hateful = 0.558 ± 0.031
Binary Classifier Trained on Shuffled Text/Tested on Shuffled Text: Precision Non-Hateful = 0.725 ± 0.028
Finetuned Binary Classifier Trained on Shuffled Text/Tested on Shuffled Text: Precision Non-Hateful = 0.661 ± 0.040
Finetuned Binary Classifier Trained on Shuffled Images/Tested on Shuffled Text: Precision Non-Hateful = 0.529 ± 0.023
----------------------------------------------------------------------------------------------------
Test Set: Normal Test Data
--------------------
Binary Classifier Trained/Testesd Simple: Precision Non-Hateful = 0.809 ± 0.025
Finetuned Binary Classifier Trained/Tested Simple: Precision Non-Hateful = 0.861 ± 0.028
Binary Classifier Trained on Shuffled Text/Tested on Normal Data: Precision Non-Hateful = 0.857 ± 0.023
Binary Classifier Trained on Shuffled Image/Tested on Normal Data: Precision Non-Hateful = 0.737 ± 0.035
Finetuned Binary Classifier Trained on Shuffled Text/Tested on Normal Data: Precision Non-Hateful = 0.937 ± 0.014
Finetuned Binary Classifier Trained on Shuffled Image/Tested on Normal Data: Precision Non-Hateful = 0.812 ± 0.040
----------------------------------------------------------------------------------------------------
Test Set: Shuffled Image
--------------------
Binary Classifier Trained Simple/Tested on Shuffled Image: Precision Non-Hateful = 0.707 ± 0.053
Finetuned Binary Classifier Trained Simple/Tested on Shuffled Image: Precision Non-Hateful = 0.846 ± 0.033
Binary Classifier Trained on Shuffled Image/Tested on Shuffled Image: Precision Non-Hateful = 0.684 ± 0.031
Finetuned Binary Classifier Trained on Shuffled Image/Tested on Shuffled Image: Precision Non-Hateful = 0.808 ± 0.034
Finetuned Binary Classifier Trained on Shuffled Text/Tested on Shuffled Image: Precision Non-Hateful = 0.893 ± 0.045
::::::::::::::::::::::::::::::::::::::::::::::::::::::::::::::::::::::::::::::::::::::::::::::::::::::::::::::::::::::::::::::::::::::::::::::::::::::::::::::::::::::::::::::::::::::::::::::::::::::::
----------------------------------------------------------------------------------------------------
Test Set: Shuffled Text
--------------------
Binary Classifier Trained Simple/Tested on Shuffled Text: Recall Hateful = 0.594 ± 0.050
Finetuned Binary Classifier Trained Simple/Tested on Shuffled Text: Recall Hateful = 0.312 ± 0.046
Binary Classifier Trained on Shuffled Text/Tested on Shuffled Text: Recall Hateful = 0.723 ± 0.040
Finetuned Binary Classifier Trained on Shuffled Text/Tested on Shuffled Text: Recall Hateful = 0.642 ± 0.047
Finetuned Binary Classifier Trained on Shuffled Images/Tested on Shuffled Text: Recall Hateful = 0.186 ± 0.036
----------------------------------------------------------------------------------------------------
Test Set: Normal Test Data
--------------------
Binary Classifier Trained/Testesd Simple: Recall Hateful = 0.803 ± 0.030
Finetuned Binary Classifier Trained/Tested Simple: Recall Hateful = 0.860 ± 0.030
Binary Classifier Trained on Shuffled Text/Tested on Normal Data: Recall Hateful = 0.878 ± 0.022
Binary Classifier Trained on Shuffled Image/Tested on Normal Data: Recall Hateful = 0.670 ± 0.055
Finetuned Binary Classifier Trained on Shuffled Text/Tested on Normal Data: Recall Hateful = 0.953 ± 0.013
Finetuned Binary Classifier Trained on Shuffled Image/Tested on Normal Data: Recall Hateful = 0.789 ± 0.047
----------------------------------------------------------------------------------------------------
Test Set: Shuffled Image
--------------------
Binary Classifier Trained Simple/Tested on Shuffled Image: Recall Hateful = 0.840 ± 0.018
Finetuned Binary Classifier Trained Simple/Tested on Shuffled Image: Recall Hateful = 0.873 ± 0.033
Binary Classifier Trained on Shuffled Image/Tested on Shuffled Image: Recall Hateful = 0.708 ± 0.046
Finetuned Binary Classifier Trained on Shuffled Image/Tested on Shuffled Image: Recall Hateful = 0.808 ± 0.036
Finetuned Binary Classifier Trained on Shuffled Text/Tested on Shuffled Image: Recall Hateful = 0.958 ± 0.023
::::::::::::::::::::::::::::::::::::::::::::::::::::::::::::::::::::::::::::::::::::::::::::::::::::::::::::::::::::::::::::::::::::::::::::::::::::::::::::::::::::::::::::::::::::::::::::::::::::::::
----------------------------------------------------------------------------------------------------
Test Set: Shuffled Text
--------------------
Binary Classifier Trained Simple/Tested on Shuffled Text: Recall Non-Hateful = 0.844 ± 0.054
Finetuned Binary Classifier Trained Simple/Tested on Shuffled Text: Recall Non-Hateful = 0.875 ± 0.050
Binary Classifier Trained on Shuffled Text/Tested on Shuffled Text: Recall Non-Hateful = 0.737 ± 0.056
Finetuned Binary Classifier Trained on Shuffled Text/Tested on Shuffled Text: Recall Non-Hateful = 0.705 ± 0.055
Finetuned Binary Classifier Trained on Shuffled Images/Tested on Shuffled Text: Recall Non-Hateful = 0.924 ± 0.024
----------------------------------------------------------------------------------------------------
Test Set: Normal Test Data
--------------------
Binary Classifier Trained/Testesd Simple: Recall Non-Hateful = 0.840 ± 0.028
Finetuned Binary Classifier Trained/Tested Simple: Recall Non-Hateful = 0.876 ± 0.030
Binary Classifier Trained on Shuffled Text/Tested on Normal Data: Recall Non-Hateful = 0.736 ± 0.044
Binary Classifier Trained on Shuffled Image/Tested on Normal Data: Recall Non-Hateful = 0.930 ± 0.020
Finetuned Binary Classifier Trained on Shuffled Text/Tested on Normal Data: Recall Non-Hateful = 0.695 ± 0.046
Finetuned Binary Classifier Trained on Shuffled Image/Tested on Normal Data: Recall Non-Hateful = 0.920 ± 0.021
----------------------------------------------------------------------------------------------------
Test Set: Shuffled Image
--------------------
Binary Classifier Trained Simple/Tested on Shuffled Image: Recall Non-Hateful = 0.397 ± 0.065
Finetuned Binary Classifier Trained Simple/Tested on Shuffled Image: Recall Non-Hateful = 0.700 ± 0.056
Binary Classifier Trained on Shuffled Image/Tested on Shuffled Image: Recall Non-Hateful = 0.636 ± 0.078
Finetuned Binary Classifier Trained on Shuffled Image/Tested on Shuffled Image: Recall Non-Hateful = 0.814 ± 0.035
Finetuned Binary Classifier Trained on Shuffled Text/Tested on Shuffled Image: Recall Non-Hateful = 0.344 ± 0.046
::::::::::::::::::::::::::::::::::::::::::::::::::::::::::::::::::::::::::::::::::::::::::::::::::::::::::::::::::::::::::::::::::::::::::::::::::::::::::::::::::::::::::::::::::::::::::::::::::::::::
----------------------------------------------------------------------------------------------------
Test Set: Shuffled Text
--------------------
Binary Classifier Trained Simple/Tested on Shuffled Text: Kappa = 0.438 ± 0.067
Finetuned Binary Classifier Trained Simple/Tested on Shuffled Text: Kappa = 0.186 ± 0.066
Binary Classifier Trained on Shuffled Text/Tested on Shuffled Text: Kappa = 0.460 ± 0.042
Finetuned Binary Classifier Trained on Shuffled Text/Tested on Shuffled Text: Kappa = 0.347 ± 0.068
Finetuned Binary Classifier Trained on Shuffled Images/Tested on Shuffled Text: Kappa = 0.109 ± 0.038
----------------------------------------------------------------------------------------------------
Test Set: Normal Test Data
--------------------
Binary Classifier Trained/Testesd Simple: Kappa = 0.642 ± 0.020
Finetuned Binary Classifier Trained/Tested Simple: Kappa = 0.735 ± 0.036
Binary Classifier Trained on Shuffled Text/Tested on Normal Data: Kappa = 0.614 ± 0.044
Binary Classifier Trained on Shuffled Image/Tested on Normal Data: Kappa = 0.599 ± 0.055
Finetuned Binary Classifier Trained on Shuffled Text/Tested on Normal Data: Kappa = 0.649 ± 0.046
Finetuned Binary Classifier Trained on Shuffled Image/Tested on Normal Data: Kappa = 0.708 ± 0.051
----------------------------------------------------------------------------------------------------
Test Set: Shuffled Image
--------------------
Binary Classifier Trained Simple/Tested on Shuffled Image: Kappa = 0.237 ± 0.061
Finetuned Binary Classifier Trained Simple/Tested on Shuffled Image: Kappa = 0.572 ± 0.060
Binary Classifier Trained on Shuffled Image/Tested on Shuffled Image: Kappa = 0.344 ± 0.059
Finetuned Binary Classifier Trained on Shuffled Image/Tested on Shuffled Image: Kappa = 0.621 ± 0.047
Finetuned Binary Classifier Trained on Shuffled Text/Tested on Shuffled Image: Kappa = 0.302 ± 0.038
::::::::::::::::::::::::::::::::::::::::::::::::::::::::::::::::::::::::::::::::::::::::::::::::::::::::::::::::::::::::::::::::::::::::::::::::::::::::::::::::::::::::::::::::::::::::::::::::::::::::
----------------------------------------------------------------------------------------------------
Test Set: Shuffled Text
--------------------
Binary Classifier Trained Simple/Tested on Shuffled Text: Accuracy = 0.719 ± 0.034
Finetuned Binary Classifier Trained Simple/Tested on Shuffled Text: Accuracy = 0.591 ± 0.034
Binary Classifier Trained on Shuffled Text/Tested on Shuffled Text: Accuracy = 0.730 ± 0.021
Finetuned Binary Classifier Trained on Shuffled Text/Tested on Shuffled Text: Accuracy = 0.673 ± 0.034
Finetuned Binary Classifier Trained on Shuffled Images/Tested on Shuffled Text: Accuracy = 0.553 ± 0.022
----------------------------------------------------------------------------------------------------
Test Set: Normal Test Data
--------------------
Binary Classifier Trained/Testesd Simple: Accuracy = 0.821 ± 0.010
Finetuned Binary Classifier Trained/Tested Simple: Accuracy = 0.868 ± 0.018
Binary Classifier Trained on Shuffled Text/Tested on Normal Data: Accuracy = 0.807 ± 0.022
Binary Classifier Trained on Shuffled Image/Tested on Normal Data: Accuracy = 0.800 ± 0.028
Finetuned Binary Classifier Trained on Shuffled Text/Tested on Normal Data: Accuracy = 0.825 ± 0.024
Finetuned Binary Classifier Trained on Shuffled Image/Tested on Normal Data: Accuracy = 0.854 ± 0.026
----------------------------------------------------------------------------------------------------
Test Set: Shuffled Image
--------------------
Binary Classifier Trained Simple/Tested on Shuffled Image: Accuracy = 0.620 ± 0.028
Finetuned Binary Classifier Trained Simple/Tested on Shuffled Image: Accuracy = 0.786 ± 0.031
Binary Classifier Trained on Shuffled Image/Tested on Shuffled Image: Accuracy = 0.672 ± 0.029
Finetuned Binary Classifier Trained on Shuffled Image/Tested on Shuffled Image: Accuracy = 0.810 ± 0.023
Finetuned Binary Classifier Trained on Shuffled Text/Tested on Shuffled Image: Accuracy = 0.652 ± 0.022
